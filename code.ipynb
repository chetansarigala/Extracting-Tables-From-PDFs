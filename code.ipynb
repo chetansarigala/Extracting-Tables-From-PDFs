{
 "cells": [
  {
   "cell_type": "code",
   "execution_count": 1,
   "id": "4d996aaa",
   "metadata": {},
   "outputs": [
    {
     "name": "stdout",
     "output_type": "stream",
     "text": [
      "Collecting tabula\n",
      "  Downloading tabula-1.0.5.tar.gz (9.5 kB)\n",
      "  Preparing metadata (setup.py) ... \u001b[?25ldone\n",
      "\u001b[?25hRequirement already satisfied: setuptools in /Library/Frameworks/Python.framework/Versions/3.9/lib/python3.9/site-packages (from tabula) (57.4.0)\n",
      "Requirement already satisfied: numpy in /Library/Frameworks/Python.framework/Versions/3.9/lib/python3.9/site-packages (from tabula) (1.19.5)\n",
      "Using legacy 'setup.py install' for tabula, since package 'wheel' is not installed.\n",
      "Installing collected packages: tabula\n",
      "  Running setup.py install for tabula ... \u001b[?25ldone\n",
      "\u001b[?25hSuccessfully installed tabula-1.0.5\n",
      "\n",
      "\u001b[1m[\u001b[0m\u001b[34;49mnotice\u001b[0m\u001b[1;39;49m]\u001b[0m\u001b[39;49m A new release of pip available: \u001b[0m\u001b[31;49m22.2.2\u001b[0m\u001b[39;49m -> \u001b[0m\u001b[32;49m23.1.2\u001b[0m\n",
      "\u001b[1m[\u001b[0m\u001b[34;49mnotice\u001b[0m\u001b[1;39;49m]\u001b[0m\u001b[39;49m To update, run: \u001b[0m\u001b[32;49mpip3.9 install --upgrade pip\u001b[0m\n",
      "Note: you may need to restart the kernel to use updated packages.\n"
     ]
    }
   ],
   "source": [
    "pip install tabula\n"
   ]
  },
  {
   "cell_type": "code",
   "execution_count": 2,
   "id": "cfda958d",
   "metadata": {},
   "outputs": [
    {
     "name": "stdout",
     "output_type": "stream",
     "text": [
      "Requirement already satisfied: pandas in /Library/Frameworks/Python.framework/Versions/3.9/lib/python3.9/site-packages (1.1.5)\n",
      "Requirement already satisfied: pytz>=2017.2 in /Library/Frameworks/Python.framework/Versions/3.9/lib/python3.9/site-packages (from pandas) (2021.1)\n",
      "Requirement already satisfied: python-dateutil>=2.7.3 in /Library/Frameworks/Python.framework/Versions/3.9/lib/python3.9/site-packages (from pandas) (2.8.1)\n",
      "Requirement already satisfied: numpy>=1.15.4 in /Library/Frameworks/Python.framework/Versions/3.9/lib/python3.9/site-packages (from pandas) (1.19.5)\n",
      "Requirement already satisfied: six>=1.5 in /Library/Frameworks/Python.framework/Versions/3.9/lib/python3.9/site-packages (from python-dateutil>=2.7.3->pandas) (1.16.0)\n",
      "\n",
      "\u001b[1m[\u001b[0m\u001b[34;49mnotice\u001b[0m\u001b[1;39;49m]\u001b[0m\u001b[39;49m A new release of pip available: \u001b[0m\u001b[31;49m22.2.2\u001b[0m\u001b[39;49m -> \u001b[0m\u001b[32;49m23.1.2\u001b[0m\n",
      "\u001b[1m[\u001b[0m\u001b[34;49mnotice\u001b[0m\u001b[1;39;49m]\u001b[0m\u001b[39;49m To update, run: \u001b[0m\u001b[32;49mpip3.9 install --upgrade pip\u001b[0m\n",
      "Note: you may need to restart the kernel to use updated packages.\n"
     ]
    }
   ],
   "source": [
    "pip install pandas"
   ]
  },
  {
   "cell_type": "code",
   "execution_count": 3,
   "id": "36997552",
   "metadata": {},
   "outputs": [
    {
     "name": "stdout",
     "output_type": "stream",
     "text": [
      "Requirement already satisfied: ipywidgets in /Library/Frameworks/Python.framework/Versions/3.9/lib/python3.9/site-packages (8.0.6)\n",
      "Requirement already satisfied: ipython>=6.1.0 in /Library/Frameworks/Python.framework/Versions/3.9/lib/python3.9/site-packages (from ipywidgets) (7.27.0)\n",
      "Requirement already satisfied: widgetsnbextension~=4.0.7 in /Library/Frameworks/Python.framework/Versions/3.9/lib/python3.9/site-packages (from ipywidgets) (4.0.7)\n",
      "Requirement already satisfied: jupyterlab-widgets~=3.0.7 in /Library/Frameworks/Python.framework/Versions/3.9/lib/python3.9/site-packages (from ipywidgets) (3.0.7)\n",
      "Requirement already satisfied: traitlets>=4.3.1 in /Library/Frameworks/Python.framework/Versions/3.9/lib/python3.9/site-packages (from ipywidgets) (5.1.0)\n",
      "Requirement already satisfied: ipykernel>=4.5.1 in /Library/Frameworks/Python.framework/Versions/3.9/lib/python3.9/site-packages (from ipywidgets) (6.4.1)\n",
      "Requirement already satisfied: matplotlib-inline<0.2.0,>=0.1.0 in /Library/Frameworks/Python.framework/Versions/3.9/lib/python3.9/site-packages (from ipykernel>=4.5.1->ipywidgets) (0.1.3)\n",
      "Requirement already satisfied: ipython-genutils in /Library/Frameworks/Python.framework/Versions/3.9/lib/python3.9/site-packages (from ipykernel>=4.5.1->ipywidgets) (0.2.0)\n",
      "Requirement already satisfied: tornado<7.0,>=4.2 in /Library/Frameworks/Python.framework/Versions/3.9/lib/python3.9/site-packages (from ipykernel>=4.5.1->ipywidgets) (6.1)\n",
      "Requirement already satisfied: debugpy<2.0,>=1.0.0 in /Library/Frameworks/Python.framework/Versions/3.9/lib/python3.9/site-packages (from ipykernel>=4.5.1->ipywidgets) (1.4.3)\n",
      "Requirement already satisfied: jupyter-client<8.0 in /Library/Frameworks/Python.framework/Versions/3.9/lib/python3.9/site-packages (from ipykernel>=4.5.1->ipywidgets) (7.0.2)\n",
      "Requirement already satisfied: appnope in /Library/Frameworks/Python.framework/Versions/3.9/lib/python3.9/site-packages (from ipykernel>=4.5.1->ipywidgets) (0.1.2)\n",
      "Requirement already satisfied: pygments in /Library/Frameworks/Python.framework/Versions/3.9/lib/python3.9/site-packages (from ipython>=6.1.0->ipywidgets) (2.10.0)\n",
      "Requirement already satisfied: pickleshare in /Library/Frameworks/Python.framework/Versions/3.9/lib/python3.9/site-packages (from ipython>=6.1.0->ipywidgets) (0.7.5)\n",
      "Requirement already satisfied: backcall in /Library/Frameworks/Python.framework/Versions/3.9/lib/python3.9/site-packages (from ipython>=6.1.0->ipywidgets) (0.2.0)\n",
      "Requirement already satisfied: decorator in /Library/Frameworks/Python.framework/Versions/3.9/lib/python3.9/site-packages (from ipython>=6.1.0->ipywidgets) (5.0.9)\n",
      "Requirement already satisfied: pexpect>4.3 in /Library/Frameworks/Python.framework/Versions/3.9/lib/python3.9/site-packages (from ipython>=6.1.0->ipywidgets) (4.8.0)\n",
      "Requirement already satisfied: setuptools>=18.5 in /Library/Frameworks/Python.framework/Versions/3.9/lib/python3.9/site-packages (from ipython>=6.1.0->ipywidgets) (57.4.0)\n",
      "Requirement already satisfied: jedi>=0.16 in /Library/Frameworks/Python.framework/Versions/3.9/lib/python3.9/site-packages (from ipython>=6.1.0->ipywidgets) (0.18.0)\n",
      "Requirement already satisfied: prompt-toolkit!=3.0.0,!=3.0.1,<3.1.0,>=2.0.0 in /Library/Frameworks/Python.framework/Versions/3.9/lib/python3.9/site-packages (from ipython>=6.1.0->ipywidgets) (3.0.20)\n",
      "Requirement already satisfied: parso<0.9.0,>=0.8.0 in /Library/Frameworks/Python.framework/Versions/3.9/lib/python3.9/site-packages (from jedi>=0.16->ipython>=6.1.0->ipywidgets) (0.8.2)\n",
      "Requirement already satisfied: python-dateutil>=2.1 in /Library/Frameworks/Python.framework/Versions/3.9/lib/python3.9/site-packages (from jupyter-client<8.0->ipykernel>=4.5.1->ipywidgets) (2.8.1)\n",
      "Requirement already satisfied: entrypoints in /Library/Frameworks/Python.framework/Versions/3.9/lib/python3.9/site-packages (from jupyter-client<8.0->ipykernel>=4.5.1->ipywidgets) (0.3)\n",
      "Requirement already satisfied: pyzmq>=13 in /Library/Frameworks/Python.framework/Versions/3.9/lib/python3.9/site-packages (from jupyter-client<8.0->ipykernel>=4.5.1->ipywidgets) (22.2.1)\n",
      "Requirement already satisfied: nest-asyncio>=1.5 in /Library/Frameworks/Python.framework/Versions/3.9/lib/python3.9/site-packages (from jupyter-client<8.0->ipykernel>=4.5.1->ipywidgets) (1.5.1)\n",
      "Requirement already satisfied: jupyter-core>=4.6.0 in /Library/Frameworks/Python.framework/Versions/3.9/lib/python3.9/site-packages (from jupyter-client<8.0->ipykernel>=4.5.1->ipywidgets) (4.7.1)\n",
      "Requirement already satisfied: ptyprocess>=0.5 in /Library/Frameworks/Python.framework/Versions/3.9/lib/python3.9/site-packages (from pexpect>4.3->ipython>=6.1.0->ipywidgets) (0.7.0)\n",
      "Requirement already satisfied: wcwidth in /Library/Frameworks/Python.framework/Versions/3.9/lib/python3.9/site-packages (from prompt-toolkit!=3.0.0,!=3.0.1,<3.1.0,>=2.0.0->ipython>=6.1.0->ipywidgets) (0.2.5)\n",
      "Requirement already satisfied: six>=1.5 in /Library/Frameworks/Python.framework/Versions/3.9/lib/python3.9/site-packages (from python-dateutil>=2.1->jupyter-client<8.0->ipykernel>=4.5.1->ipywidgets) (1.16.0)\n",
      "\n",
      "\u001b[1m[\u001b[0m\u001b[34;49mnotice\u001b[0m\u001b[1;39;49m]\u001b[0m\u001b[39;49m A new release of pip available: \u001b[0m\u001b[31;49m22.2.2\u001b[0m\u001b[39;49m -> \u001b[0m\u001b[32;49m23.1.2\u001b[0m\n",
      "\u001b[1m[\u001b[0m\u001b[34;49mnotice\u001b[0m\u001b[1;39;49m]\u001b[0m\u001b[39;49m To update, run: \u001b[0m\u001b[32;49mpip3.9 install --upgrade pip\u001b[0m\n",
      "Note: you may need to restart the kernel to use updated packages.\n"
     ]
    }
   ],
   "source": [
    "pip install ipywidgets"
   ]
  },
  {
   "cell_type": "code",
   "execution_count": 14,
   "id": "f4a76943-f603-4625-963e-276919f027f5",
   "metadata": {},
   "outputs": [
    {
     "data": {
      "application/vnd.jupyter.widget-view+json": {
       "model_id": "b1e9124f8cc34867b6c86a7d7e986c18",
       "version_major": 2,
       "version_minor": 0
      },
      "text/plain": [
       "VBox(children=(FileUpload(value={}, accept='.pdf', description='Upload'), FileUpload(value={}, accept='.pdf', …"
      ]
     },
     "metadata": {},
     "output_type": "display_data"
    }
   ],
   "source": [
    "import tabula\n",
    "import pandas as pd\n",
    "import ipywidgets as widgets\n",
    "import os\n",
    "\n",
    "# Define the function for extracting tables from PDF files and writing them to CSV\n",
    "def extract_tables(pdf_files, combine_sheets, output_format):\n",
    "    # Create separate folders for CSV and XLSX files\n",
    "    os.makedirs(\"CSV\", exist_ok=True)\n",
    "    os.makedirs(\"XLSX\", exist_ok=True)\n",
    "\n",
    "    # Create an empty list to store the extracted tables\n",
    "    tables = []\n",
    "\n",
    "    # Iterate through the PDF files\n",
    "    for file in pdf_files:\n",
    "        # Extract tables from each page of the PDF\n",
    "        extracted_tables = tabula.read_pdf(file, pages=\"all\", multiple_tables=True)\n",
    "        tables.extend(extracted_tables)\n",
    "\n",
    "    # Check if tables need to be combined in one sheet or separate sheets\n",
    "    if combine_sheets:\n",
    "        # Concatenate all tables into one DataFrame\n",
    "        combined_data = pd.concat(tables, ignore_index=True)\n",
    "\n",
    "        # Write the combined data to the output file\n",
    "        if output_format == 'XLSX':\n",
    "            combined_data.to_excel(\"XLSX/output.xlsx\", index=False)\n",
    "            print(\"Data extraction complete. Output file saved as: XLSX/output.xlsx\")\n",
    "        elif output_format == 'CSV':\n",
    "            combined_data.to_csv(\"CSV/output.csv\", index=False)\n",
    "            print(\"Data extraction complete. Output file saved as: CSV/output.csv\")\n",
    "    else:\n",
    "        # Write each table to a separate sheet in the Excel file or separate CSV files\n",
    "        if output_format == 'XLSX':\n",
    "            with pd.ExcelWriter(\"XLSX/output.xlsx\") as writer:\n",
    "                for i, table in enumerate(tables):\n",
    "                    sheet_name = f\"Sheet{i+1}\"\n",
    "                    table.to_excel(writer, sheet_name=sheet_name, index=False)\n",
    "                    print(f\"Table {i+1} saved in Sheet {sheet_name} of XLSX/output.xlsx\")\n",
    "\n",
    "            print(\"Data extraction complete. Output file saved as: XLSX/output.xlsx\")\n",
    "        elif output_format == 'CSV':\n",
    "            for i, table in enumerate(tables):\n",
    "                file_name = f\"CSV/output{i+1}.csv\"\n",
    "                table.to_csv(file_name, index=False)\n",
    "                print(f\"Table {i+1} saved as {file_name}\")\n",
    "\n",
    "            print(\"Data extraction complete. Output files saved in the CSV folder\")\n",
    "\n",
    "# Define the function for handling the button click event\n",
    "def on_submit_button_click(b):\n",
    "    # Get the selected PDF files\n",
    "    pdf_files = []\n",
    "    for file_picker in file_pickers:\n",
    "        if file_picker.value:\n",
    "            uploaded_file = next(iter(file_picker.value.values()))\n",
    "            content = uploaded_file['content']\n",
    "            with open(uploaded_file['metadata']['name'], 'wb') as f:\n",
    "                f.write(content)\n",
    "            pdf_files.append(uploaded_file['metadata']['name'])\n",
    "\n",
    "    # Get the combine sheets option\n",
    "    combine_sheets = combine_sheets_checkbox.value\n",
    "\n",
    "    # Get the selected output format\n",
    "    output_format = output_format_dropdown.value\n",
    "\n",
    "    # Extract the tables and write them to the output file\n",
    "    extract_tables(pdf_files, combine_sheets, output_format)\n",
    "\n",
    "# Define the file pickers for selecting PDF files\n",
    "file_pickers = [widgets.FileUpload(accept=\".pdf\") for _ in range(5)]  # Adjust the range according to your needs\n",
    "\n",
    "# Define the checkbox for selecting whether to combine sheets or not\n",
    "combine_sheets_checkbox = widgets.Checkbox(value=True, description='Combine tables in one sheet')\n",
    "\n",
    "# Define the dropdown for selecting the output format\n",
    "output_format_dropdown = widgets.Dropdown(options=['XLSX', 'CSV'], value='XLSX', description='Output Format:')\n",
    "\n",
    "# Define the submit button\n",
    "submit_button = widgets.Button(description=\"Submit\")\n",
    "\n",
    "# Register the button's click event\n",
    "submit_button.on_click(on_submit_button_click)\n",
    "\n",
    "# Display the file pickers, checkbox, dropdown, and submit button\n",
    "display(widgets.VBox(file_pickers + [combine_sheets_checkbox, output_format_dropdown, submit_button]))\n",
    "\n"
   ]
  },
  {
   "cell_type": "code",
   "execution_count": null,
   "id": "0322132a-fcc2-4b4f-91e2-25490588fb99",
   "metadata": {},
   "outputs": [],
   "source": []
  },
  {
   "cell_type": "code",
   "execution_count": null,
   "id": "f571e92f-187d-4931-9acd-54a5b881978c",
   "metadata": {},
   "outputs": [],
   "source": []
  }
 ],
 "metadata": {
  "kernelspec": {
   "display_name": "Python 3 (ipykernel)",
   "language": "python",
   "name": "python3"
  },
  "language_info": {
   "codemirror_mode": {
    "name": "ipython",
    "version": 3
   },
   "file_extension": ".py",
   "mimetype": "text/x-python",
   "name": "python",
   "nbconvert_exporter": "python",
   "pygments_lexer": "ipython3",
   "version": "3.9.13"
  }
 },
 "nbformat": 4,
 "nbformat_minor": 5
}
